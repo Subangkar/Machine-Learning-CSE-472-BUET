{
 "cells": [
  {
   "cell_type": "code",
   "execution_count": 24,
   "outputs": [
    {
     "name": "stdout",
     "text": [
      "The autoreload extension is already loaded. To reload it, use:\n",
      "  %reload_ext autoreload\n"
     ],
     "output_type": "stream"
    }
   ],
   "source": [
    "%load_ext autoreload\n",
    "%autoreload 2"
   ],
   "metadata": {
    "collapsed": false,
    "pycharm": {
     "name": "#%%\n",
     "is_executing": false
    }
   }
  },
  {
   "cell_type": "code",
   "execution_count": 25,
   "outputs": [],
   "source": [
    "import random\n",
    "import sys\n",
    "import time"
   ],
   "metadata": {
    "collapsed": false,
    "pycharm": {
     "name": "#%%\n",
     "is_executing": false
    }
   }
  },
  {
   "cell_type": "code",
   "execution_count": 26,
   "outputs": [],
   "source": [
    "random.seed(1)\n",
    "# sys.stdout = open('report.log', 'w')"
   ],
   "metadata": {
    "collapsed": false,
    "pycharm": {
     "name": "#%%\n",
     "is_executing": false
    }
   }
  },
  {
   "cell_type": "code",
   "execution_count": 27,
   "outputs": [],
   "source": [
    "from models.adaboost import AdaBoost"
   ],
   "metadata": {
    "collapsed": false,
    "pycharm": {
     "name": "#%%\n",
     "is_executing": false
    }
   }
  },
  {
   "cell_type": "code",
   "execution_count": 28,
   "outputs": [],
   "source": [
    "from models.decisiontree import DecisionTree\n"
   ],
   "metadata": {
    "collapsed": false,
    "pycharm": {
     "name": "#%%\n",
     "is_executing": false
    }
   }
  },
  {
   "cell_type": "code",
   "execution_count": 29,
   "outputs": [],
   "source": [
    "def run_adaboost(dataset_name, dataset, K=None):\n",
    "\tif K is None:\n",
    "\t\tK = [5, 10, 15, 20]\n",
    "\tX_train, X_test, y_train, y_test = dataset\n",
    "\tfor k in K:\n",
    "\t\tmodel = AdaBoost(n_estimators=k, base_estimator=DecisionTree(max_depth=1))\n",
    "\t\tst_time = time.time()\n",
    "\t\tmodel.fit(X_train, y_train)\n",
    "\t\ten_time = time.time()\n",
    "\t\tprint(dataset_name, ' AdaBoost x', k, ' Train:', '{:.4f}'.format(model.score(X_train, y_train)),\n",
    "\t\t      ' Test:', '{:.4f}'.format(model.score(X_test, y_test)))\n",
    "\t\tprint('elaspled time: ', '{:.4f}'.format(en_time - st_time))\n",
    "\tprint(flush=True)\n",
    "\n",
    "\n",
    "def run_decisionTree(dataset_name, dataset):\n",
    "\tX_train, X_test, y_train, y_test = dataset\n",
    "\tmodel = DecisionTree()\n",
    "\tst_time = time.time()\n",
    "\tmodel.fit(X_train, y_train)\n",
    "\ten_time = time.time()\n",
    "\tprint(dataset_name, ' Decision Tree', ' Train:', '{:.4f}'.format(model.score(X_train, y_train)),\n",
    "\t      ' Test:', '{:.4f}'.format(model.score(X_test, y_test)))\n",
    "\tprint('Train:\\n', model.report(X_train, y_train))\n",
    "\tprint('Test:\\n', model.report(X_test, y_test))\n",
    "\tprint('elaspled time: ', '{:.4f}'.format(en_time - st_time))\n",
    "\tprint(flush=True)\n"
   ],
   "metadata": {
    "collapsed": false,
    "pycharm": {
     "name": "#%%\n",
     "is_executing": false
    }
   }
  },
  {
   "cell_type": "code",
   "execution_count": 30,
   "outputs": [],
   "source": [
    "from telco import train_test_dataset_telco\n",
    "from adult import train_test_dataset_adult\n",
    "from credit import train_test_dataset_credit"
   ],
   "metadata": {
    "collapsed": false,
    "pycharm": {
     "name": "#%%\n",
     "is_executing": false
    }
   }
  },
  {
   "cell_type": "code",
   "execution_count": 31,
   "outputs": [],
   "source": [
    "datasets = dict()\n",
    "datasets['telco'] = train_test_dataset_telco()\n",
    "datasets['adult'] = train_test_dataset_adult()\n",
    "datasets['crdit'] = train_test_dataset_credit()"
   ],
   "metadata": {
    "collapsed": false,
    "pycharm": {
     "name": "#%%\n",
     "is_executing": false
    }
   }
  },
  {
   "cell_type": "code",
   "execution_count": 73,
   "outputs": [
    {
     "name": "stdout",
     "text": [
      "adult  Decision Tree  Train: 1.0000  Test: 0.8184\n",
      "elaspled time:  22.7761\n",
      "\n"
     ],
     "output_type": "stream"
    }
   ],
   "source": [
    "for (k, v) in datasets.items():\n",
    "\trun_decisionTree(k, v)\n",
    "\n",
    "\trun_adaboost(k, v)"
   ],
   "metadata": {
    "collapsed": false,
    "pycharm": {
     "name": "#%%\n",
     "is_executing": false
    }
   }
  }
 ],
 "metadata": {
  "kernelspec": {
   "display_name": "Python 3",
   "language": "python",
   "name": "python3"
  },
  "language_info": {
   "codemirror_mode": {
    "name": "ipython",
    "version": 2
   },
   "file_extension": ".py",
   "mimetype": "text/x-python",
   "name": "python",
   "nbconvert_exporter": "python",
   "pygments_lexer": "ipython2",
   "version": "2.7.6"
  },
  "pycharm": {
   "stem_cell": {
    "cell_type": "raw",
    "source": [],
    "metadata": {
     "collapsed": false
    }
   }
  }
 },
 "nbformat": 4,
 "nbformat_minor": 0
}