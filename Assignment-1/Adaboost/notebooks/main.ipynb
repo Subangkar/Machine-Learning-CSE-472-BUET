{
 "cells": [
  {
   "cell_type": "code",
   "execution_count": 1,
   "outputs": [],
   "source": [
    "%load_ext autoreload\n",
    "%autoreload 2"
   ],
   "metadata": {
    "collapsed": false,
    "pycharm": {
     "name": "#%%\n",
     "is_executing": false
    }
   }
  },
  {
   "cell_type": "code",
   "execution_count": 2,
   "outputs": [],
   "source": [
    "import sys\n",
    "import time"
   ],
   "metadata": {
    "collapsed": false,
    "pycharm": {
     "name": "#%%\n",
     "is_executing": false
    }
   }
  },
  {
   "cell_type": "code",
   "execution_count": 3,
   "outputs": [],
   "source": [
    "RANDOM_STATE = 15\n",
    "# sys.stdout = open('report.log', 'w')"
   ],
   "metadata": {
    "collapsed": false,
    "pycharm": {
     "name": "#%%\n",
     "is_executing": false
    }
   }
  },
  {
   "cell_type": "code",
   "execution_count": 4,
   "outputs": [],
   "source": [
    "from models.adaboost import AdaBoost"
   ],
   "metadata": {
    "collapsed": false,
    "pycharm": {
     "name": "#%%\n",
     "is_executing": false
    }
   }
  },
  {
   "cell_type": "code",
   "execution_count": 5,
   "outputs": [],
   "source": [
    "from models.decisiontree import DecisionTree\n"
   ],
   "metadata": {
    "collapsed": false,
    "pycharm": {
     "name": "#%%\n",
     "is_executing": false
    }
   }
  },
  {
   "cell_type": "code",
   "execution_count": 6,
   "outputs": [],
   "source": [
    "def run_adaboost(dataset_name, dataset, K=None, random_state=None):\n",
    "\tif K is None:\n",
    "\t\tK = [5, 10, 15, 20]\n",
    "\tX_train, X_test, y_train, y_test = dataset\n",
    "\tfor k in K:\n",
    "\t\tmodel = AdaBoost(n_estimators=k, base_estimator=DecisionTree(max_depth=1))\n",
    "\t\tst_time = time.time()\n",
    "\t\tmodel.fit(X_train, y_train, random_state=random_state)\n",
    "\t\ten_time = time.time()\n",
    "\t\tprint(dataset_name, ' AdaBoost x', k, ' Train:', '{:.4f}'.format(model.score(X_train, y_train)),\n",
    "\t\t      ' Test:', '{:.4f}'.format(model.score(X_test, y_test)))\n",
    "\t\tprint('elaspled time: ', '{:.4f}'.format(en_time - st_time))\n",
    "\tprint(flush=True)\n",
    "\n",
    "\n",
    "def run_decisionTree(dataset_name, dataset, random_state=None):\n",
    "\tX_train, X_test, y_train, y_test = dataset\n",
    "\tmodel = DecisionTree()\n",
    "\tst_time = time.time()\n",
    "\tmodel.fit(X_train, y_train, random_state=random_state)\n",
    "\ten_time = time.time()\n",
    "\tprint(dataset_name, ' Decision Tree', ' Train:', '{:.4f}'.format(model.score(X_train, y_train)),\n",
    "\t      ' Test:', '{:.4f}'.format(model.score(X_test, y_test)))\n",
    "\tprint('Train:\\n' + model.report(X_train, y_train))\n",
    "\tprint('Test:\\n' + model.report(X_test, y_test))\n",
    "\tprint('elaspled time: ', '{:.4f}'.format(en_time - st_time))\n",
    "\tprint(flush=True)\n"
   ],
   "metadata": {
    "collapsed": false,
    "pycharm": {
     "name": "#%%\n",
     "is_executing": false
    }
   }
  },
  {
   "cell_type": "code",
   "execution_count": 7,
   "outputs": [
    {
     "data": {
      "text/html": "        <script type=\"text/javascript\">\n        window.PlotlyConfig = {MathJaxConfig: 'local'};\n        if (window.MathJax) {MathJax.Hub.Config({SVG: {font: \"STIX-Web\"}});}\n        if (typeof require !== 'undefined') {\n        require.undef(\"plotly\");\n        requirejs.config({\n            paths: {\n                'plotly': ['https://cdn.plot.ly/plotly-latest.min']\n            }\n        });\n        require(['plotly'], function(Plotly) {\n            window._Plotly = Plotly;\n        });\n        }\n        </script>\n        "
     },
     "metadata": {},
     "output_type": "display_data"
    }
   ],
   "source": [
    "from telco import train_test_dataset_telco\n",
    "from adult import train_test_dataset_adult\n",
    "from credit import train_test_dataset_credit"
   ],
   "metadata": {
    "collapsed": false,
    "pycharm": {
     "name": "#%%\n",
     "is_executing": false
    }
   }
  },
  {
   "cell_type": "code",
   "execution_count": 8,
   "outputs": [],
   "source": [
    "datasets = dict()\n",
    "datasets['telco'] = train_test_dataset_telco(project_root='../', random_state=RANDOM_STATE)\n",
    "datasets['adult'] = train_test_dataset_adult(project_root='../', random_state=RANDOM_STATE)\n",
    "datasets['crdit'] = train_test_dataset_credit(project_root='../', random_state=RANDOM_STATE)"
   ],
   "metadata": {
    "collapsed": false,
    "pycharm": {
     "name": "#%%\n",
     "is_executing": false
    }
   }
  },
  {
   "cell_type": "code",
   "execution_count": 9,
   "outputs": [
    {
     "name": "stdout",
     "text": [
      "telco  Decision Tree  Train: 0.9979  Test: 0.7388\n",
      "Train:\n",
      "True Positive Rate: 1.00\n",
      "True Negative Rate: 1.00\n",
      "Precision: 1.00\n",
      "False Discovery Rate: 0.00\n",
      "F1 Score: 1.00\n",
      "\n",
      "Test:\n",
      "True Positive Rate: 0.51\n",
      "True Negative Rate: 0.83\n",
      "Precision: 0.52\n",
      "False Discovery Rate: 0.48\n",
      "F1 Score: 0.52\n",
      "\n",
      "elaspled time:  2.7827\n",
      "\n",
      "fitting 5 models\n",
      "telco  AdaBoost x 5  Train: 0.7813  Test: 0.7821\n",
      "elaspled time:  1.6476\n",
      "fitting 10 models\n",
      "telco  AdaBoost x 10  Train: 0.7950  Test: 0.7899\n",
      "elaspled time:  3.2609\n",
      "fitting 15 models\n",
      "telco  AdaBoost x 15  Train: 0.7964  Test: 0.7963\n",
      "elaspled time:  4.6771\n",
      "fitting 20 models\n",
      "telco  AdaBoost x 20  Train: 0.8014  Test: 0.7949\n",
      "elaspled time:  6.0166\n",
      "\n",
      "adult  Decision Tree  Train: 1.0000  Test: 0.8184\n",
      "Train:\n",
      "True Positive Rate: 1.00\n",
      "True Negative Rate: 1.00\n",
      "Precision: 1.00\n",
      "False Discovery Rate: 0.00\n",
      "F1 Score: 1.00\n",
      "\n",
      "Test:\n",
      "True Positive Rate: 0.62\n",
      "True Negative Rate: 0.88\n",
      "Precision: 0.61\n",
      "False Discovery Rate: 0.39\n",
      "F1 Score: 0.62\n",
      "\n",
      "elaspled time:  31.9189\n",
      "\n",
      "fitting 5 models\n",
      "adult  AdaBoost x 5  Train: 0.8429  Test: 0.8451\n",
      "elaspled time:  15.3360\n",
      "fitting 10 models\n",
      "adult  AdaBoost x 10  Train: 0.8512  Test: 0.8537\n",
      "elaspled time:  31.1896\n",
      "fitting 15 models\n",
      "adult  AdaBoost x 15  Train: 0.8532  Test: 0.8555\n",
      "elaspled time:  46.9988\n",
      "fitting 20 models\n",
      "adult  AdaBoost x 20  Train: 0.8522  Test: 0.8542\n",
      "elaspled time:  65.4948\n",
      "\n",
      "crdit  Decision Tree  Train: 1.0000  Test: 0.9893\n",
      "Train:\n",
      "True Positive Rate: 1.00\n",
      "True Negative Rate: 1.00\n",
      "Precision: 1.00\n",
      "False Discovery Rate: 0.00\n",
      "F1 Score: 1.00\n",
      "\n",
      "Test:\n",
      "True Positive Rate: 0.78\n",
      "True Negative Rate: 0.99\n",
      "Precision: 0.78\n",
      "False Discovery Rate: 0.22\n",
      "F1 Score: 0.78\n",
      "\n",
      "elaspled time:  3.7294\n",
      "\n",
      "fitting 5 models\n",
      "crdit  AdaBoost x 5  Train: 0.9952  Test: 0.9946\n",
      "elaspled time:  9.2113\n",
      "fitting 10 models\n",
      "crdit  AdaBoost x 10  Train: 0.9952  Test: 0.9946\n",
      "elaspled time:  24.5932\n",
      "fitting 15 models\n",
      "crdit  AdaBoost x 15  Train: 0.9952  Test: 0.9946\n",
      "elaspled time:  27.9896\n",
      "fitting 20 models\n",
      "crdit  AdaBoost x 20  Train: 0.9955  Test: 0.9946\n",
      "elaspled time:  37.5167\n",
      "\n"
     ],
     "output_type": "stream"
    }
   ],
   "source": [
    "for (k, v) in datasets.items():\n",
    "\trun_decisionTree(k, v, random_state=RANDOM_STATE)\n",
    "\n",
    "\trun_adaboost(k, v, random_state=RANDOM_STATE)"
   ],
   "metadata": {
    "collapsed": false,
    "pycharm": {
     "name": "#%%\n",
     "is_executing": false
    }
   }
  }
 ],
 "metadata": {
  "kernelspec": {
   "display_name": "Python 3",
   "language": "python",
   "name": "python3"
  },
  "language_info": {
   "codemirror_mode": {
    "name": "ipython",
    "version": 2
   },
   "file_extension": ".py",
   "mimetype": "text/x-python",
   "name": "python",
   "nbconvert_exporter": "python",
   "pygments_lexer": "ipython2",
   "version": "2.7.6"
  },
  "pycharm": {
   "stem_cell": {
    "cell_type": "raw",
    "source": [],
    "metadata": {
     "collapsed": false
    }
   }
  }
 },
 "nbformat": 4,
 "nbformat_minor": 0
}