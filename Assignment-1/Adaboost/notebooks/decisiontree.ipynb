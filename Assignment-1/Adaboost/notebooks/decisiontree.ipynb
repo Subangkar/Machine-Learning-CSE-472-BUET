{
 "cells": [
  {
   "cell_type": "code",
   "execution_count": 1,
   "metadata": {
    "collapsed": true,
    "pycharm": {
     "is_executing": false
    }
   },
   "outputs": [],
   "source": [
    "%load_ext autoreload\n",
    "%autoreload 2\n",
    "\n",
    "import numpy as np\n",
    "import pandas as pd\n",
    "from matplotlib import pyplot as plt\n",
    "\n",
    "from models.adaboost import AdaBoost\n",
    "\n",
    "import sys\n",
    "# sys.stdout = open('log', 'w')"
   ]
  },
  {
   "cell_type": "code",
   "execution_count": 2,
   "outputs": [],
   "source": [
    "def get_data():\n",
    "\tdataset = np.array([[1, 0, 1],\n",
    "\t                    [1, 1, 1],\n",
    "\t                    [0, 0, 1],\n",
    "\t                    [0, 1, 0]])\n",
    "\treturn dataset[:, :-1], dataset[:, -1]\n",
    "X, y = get_data()\n",
    "\n"
   ],
   "metadata": {
    "collapsed": false,
    "pycharm": {
     "name": "#%%\n",
     "is_executing": false
    }
   }
  },
  {
   "cell_type": "code",
   "execution_count": 6,
   "outputs": [
    {
     "name": "stdout",
     "text": [
      "using modified one\n",
      "1.0\n",
      "          y=1.0\n",
      "     X[1]<=0.5\n",
      "          y=0.0\n",
      "X[0]<=0.0\n",
      "     y=1.0\n"
     ],
     "output_type": "stream"
    }
   ],
   "source": [
    "from models.decisiontree import DecisionTree\n",
    "\n",
    "dt = DecisionTree()\n",
    "dt.fit(X,y)\n",
    "dt.predict(X)\n",
    "print(dt.score(X,y))\n",
    "dt.print_tree()"
   ],
   "metadata": {
    "collapsed": false,
    "pycharm": {
     "name": "#%%\n",
     "is_executing": false
    }
   }
  }
 ],
 "metadata": {
  "kernelspec": {
   "display_name": "Python 3",
   "language": "python",
   "name": "python3"
  },
  "language_info": {
   "codemirror_mode": {
    "name": "ipython",
    "version": 2
   },
   "file_extension": ".py",
   "mimetype": "text/x-python",
   "name": "python",
   "nbconvert_exporter": "python",
   "pygments_lexer": "ipython2",
   "version": "2.7.6"
  },
  "pycharm": {
   "stem_cell": {
    "cell_type": "raw",
    "source": [],
    "metadata": {
     "collapsed": false
    }
   }
  }
 },
 "nbformat": 4,
 "nbformat_minor": 0
}