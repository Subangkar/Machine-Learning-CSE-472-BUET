{
 "cells": [
  {
   "cell_type": "code",
   "execution_count": 1,
   "outputs": [],
   "source": [
    "%load_ext autoreload\n",
    "%autoreload 2"
   ],
   "metadata": {
    "collapsed": false,
    "pycharm": {
     "name": "#%%\n",
     "is_executing": false
    }
   }
  },
  {
   "cell_type": "code",
   "execution_count": 2,
   "metadata": {
    "collapsed": true,
    "pycharm": {
     "is_executing": false
    }
   },
   "outputs": [],
   "source": [
    "import pandas as pd\n",
    "import numpy as np\n",
    "from dataframepreprocessor import DataFramePreprocessor"
   ]
  },
  {
   "cell_type": "code",
   "execution_count": 45,
   "outputs": [
    {
     "data": {
      "text/plain": "      customerID  gender SeniorCitizen Partner Dependents tenure PhoneService  \\\n0     7590-VHVEG  Female             0     Yes         No      1           No   \n1     5575-GNVDE    Male             0      No         No     34          Yes   \n2     3668-QPYBK    Male             0      No         No      2          Yes   \n3     7795-CFOCW    Male             0      No         No     45           No   \n4     9237-HQITU  Female             0      No         No      2          Yes   \n...          ...     ...           ...     ...        ...    ...          ...   \n7038  6840-RESVB    Male             0     Yes        Yes     24          Yes   \n7039  2234-XADUH  Female             0     Yes        Yes     72          Yes   \n7040  4801-JZAZL  Female             0     Yes        Yes     11           No   \n7041  8361-LTMKD    Male             1     Yes         No      4          Yes   \n7042  3186-AJIEK    Male             0      No         No     66          Yes   \n\n     MultipleLines InternetService OnlineSecurity  ... DeviceProtection  \\\n0               No             DSL             No  ...               No   \n1               No             DSL            Yes  ...              Yes   \n2               No             DSL            Yes  ...               No   \n3               No             DSL            Yes  ...              Yes   \n4               No     Fiber optic             No  ...               No   \n...            ...             ...            ...  ...              ...   \n7038           Yes             DSL            Yes  ...              Yes   \n7039           Yes     Fiber optic             No  ...              Yes   \n7040            No             DSL            Yes  ...               No   \n7041           Yes     Fiber optic             No  ...               No   \n7042            No     Fiber optic            Yes  ...              Yes   \n\n     TechSupport StreamingTV StreamingMovies        Contract PaperlessBilling  \\\n0             No          No              No  Month-to-month              Yes   \n1             No          No              No        One year               No   \n2             No          No              No  Month-to-month              Yes   \n3            Yes          No              No        One year               No   \n4             No          No              No  Month-to-month              Yes   \n...          ...         ...             ...             ...              ...   \n7038         Yes         Yes             Yes        One year              Yes   \n7039          No         Yes             Yes        One year              Yes   \n7040          No          No              No  Month-to-month              Yes   \n7041          No          No              No  Month-to-month              Yes   \n7042         Yes         Yes             Yes        Two year              Yes   \n\n                  PaymentMethod MonthlyCharges TotalCharges Churn  \n0              Electronic check          29.85        29.85    No  \n1                  Mailed check          56.95       1889.5    No  \n2                  Mailed check          53.85       108.15   Yes  \n3     Bank transfer (automatic)           42.3      1840.75    No  \n4              Electronic check           70.7       151.65   Yes  \n...                         ...            ...          ...   ...  \n7038               Mailed check           84.8       1990.5    No  \n7039    Credit card (automatic)          103.2       7362.9    No  \n7040           Electronic check           29.6       346.45    No  \n7041               Mailed check           74.4        306.6   Yes  \n7042  Bank transfer (automatic)         105.65       6844.5    No  \n\n[7043 rows x 21 columns]",
      "text/html": "<div>\n<style scoped>\n    .dataframe tbody tr th:only-of-type {\n        vertical-align: middle;\n    }\n\n    .dataframe tbody tr th {\n        vertical-align: top;\n    }\n\n    .dataframe thead th {\n        text-align: right;\n    }\n</style>\n<table border=\"1\" class=\"dataframe\">\n  <thead>\n    <tr style=\"text-align: right;\">\n      <th></th>\n      <th>customerID</th>\n      <th>gender</th>\n      <th>SeniorCitizen</th>\n      <th>Partner</th>\n      <th>Dependents</th>\n      <th>tenure</th>\n      <th>PhoneService</th>\n      <th>MultipleLines</th>\n      <th>InternetService</th>\n      <th>OnlineSecurity</th>\n      <th>...</th>\n      <th>DeviceProtection</th>\n      <th>TechSupport</th>\n      <th>StreamingTV</th>\n      <th>StreamingMovies</th>\n      <th>Contract</th>\n      <th>PaperlessBilling</th>\n      <th>PaymentMethod</th>\n      <th>MonthlyCharges</th>\n      <th>TotalCharges</th>\n      <th>Churn</th>\n    </tr>\n  </thead>\n  <tbody>\n    <tr>\n      <th>0</th>\n      <td>7590-VHVEG</td>\n      <td>Female</td>\n      <td>0</td>\n      <td>Yes</td>\n      <td>No</td>\n      <td>1</td>\n      <td>No</td>\n      <td>No</td>\n      <td>DSL</td>\n      <td>No</td>\n      <td>...</td>\n      <td>No</td>\n      <td>No</td>\n      <td>No</td>\n      <td>No</td>\n      <td>Month-to-month</td>\n      <td>Yes</td>\n      <td>Electronic check</td>\n      <td>29.85</td>\n      <td>29.85</td>\n      <td>No</td>\n    </tr>\n    <tr>\n      <th>1</th>\n      <td>5575-GNVDE</td>\n      <td>Male</td>\n      <td>0</td>\n      <td>No</td>\n      <td>No</td>\n      <td>34</td>\n      <td>Yes</td>\n      <td>No</td>\n      <td>DSL</td>\n      <td>Yes</td>\n      <td>...</td>\n      <td>Yes</td>\n      <td>No</td>\n      <td>No</td>\n      <td>No</td>\n      <td>One year</td>\n      <td>No</td>\n      <td>Mailed check</td>\n      <td>56.95</td>\n      <td>1889.5</td>\n      <td>No</td>\n    </tr>\n    <tr>\n      <th>2</th>\n      <td>3668-QPYBK</td>\n      <td>Male</td>\n      <td>0</td>\n      <td>No</td>\n      <td>No</td>\n      <td>2</td>\n      <td>Yes</td>\n      <td>No</td>\n      <td>DSL</td>\n      <td>Yes</td>\n      <td>...</td>\n      <td>No</td>\n      <td>No</td>\n      <td>No</td>\n      <td>No</td>\n      <td>Month-to-month</td>\n      <td>Yes</td>\n      <td>Mailed check</td>\n      <td>53.85</td>\n      <td>108.15</td>\n      <td>Yes</td>\n    </tr>\n    <tr>\n      <th>3</th>\n      <td>7795-CFOCW</td>\n      <td>Male</td>\n      <td>0</td>\n      <td>No</td>\n      <td>No</td>\n      <td>45</td>\n      <td>No</td>\n      <td>No</td>\n      <td>DSL</td>\n      <td>Yes</td>\n      <td>...</td>\n      <td>Yes</td>\n      <td>Yes</td>\n      <td>No</td>\n      <td>No</td>\n      <td>One year</td>\n      <td>No</td>\n      <td>Bank transfer (automatic)</td>\n      <td>42.3</td>\n      <td>1840.75</td>\n      <td>No</td>\n    </tr>\n    <tr>\n      <th>4</th>\n      <td>9237-HQITU</td>\n      <td>Female</td>\n      <td>0</td>\n      <td>No</td>\n      <td>No</td>\n      <td>2</td>\n      <td>Yes</td>\n      <td>No</td>\n      <td>Fiber optic</td>\n      <td>No</td>\n      <td>...</td>\n      <td>No</td>\n      <td>No</td>\n      <td>No</td>\n      <td>No</td>\n      <td>Month-to-month</td>\n      <td>Yes</td>\n      <td>Electronic check</td>\n      <td>70.7</td>\n      <td>151.65</td>\n      <td>Yes</td>\n    </tr>\n    <tr>\n      <th>...</th>\n      <td>...</td>\n      <td>...</td>\n      <td>...</td>\n      <td>...</td>\n      <td>...</td>\n      <td>...</td>\n      <td>...</td>\n      <td>...</td>\n      <td>...</td>\n      <td>...</td>\n      <td>...</td>\n      <td>...</td>\n      <td>...</td>\n      <td>...</td>\n      <td>...</td>\n      <td>...</td>\n      <td>...</td>\n      <td>...</td>\n      <td>...</td>\n      <td>...</td>\n      <td>...</td>\n    </tr>\n    <tr>\n      <th>7038</th>\n      <td>6840-RESVB</td>\n      <td>Male</td>\n      <td>0</td>\n      <td>Yes</td>\n      <td>Yes</td>\n      <td>24</td>\n      <td>Yes</td>\n      <td>Yes</td>\n      <td>DSL</td>\n      <td>Yes</td>\n      <td>...</td>\n      <td>Yes</td>\n      <td>Yes</td>\n      <td>Yes</td>\n      <td>Yes</td>\n      <td>One year</td>\n      <td>Yes</td>\n      <td>Mailed check</td>\n      <td>84.8</td>\n      <td>1990.5</td>\n      <td>No</td>\n    </tr>\n    <tr>\n      <th>7039</th>\n      <td>2234-XADUH</td>\n      <td>Female</td>\n      <td>0</td>\n      <td>Yes</td>\n      <td>Yes</td>\n      <td>72</td>\n      <td>Yes</td>\n      <td>Yes</td>\n      <td>Fiber optic</td>\n      <td>No</td>\n      <td>...</td>\n      <td>Yes</td>\n      <td>No</td>\n      <td>Yes</td>\n      <td>Yes</td>\n      <td>One year</td>\n      <td>Yes</td>\n      <td>Credit card (automatic)</td>\n      <td>103.2</td>\n      <td>7362.9</td>\n      <td>No</td>\n    </tr>\n    <tr>\n      <th>7040</th>\n      <td>4801-JZAZL</td>\n      <td>Female</td>\n      <td>0</td>\n      <td>Yes</td>\n      <td>Yes</td>\n      <td>11</td>\n      <td>No</td>\n      <td>No</td>\n      <td>DSL</td>\n      <td>Yes</td>\n      <td>...</td>\n      <td>No</td>\n      <td>No</td>\n      <td>No</td>\n      <td>No</td>\n      <td>Month-to-month</td>\n      <td>Yes</td>\n      <td>Electronic check</td>\n      <td>29.6</td>\n      <td>346.45</td>\n      <td>No</td>\n    </tr>\n    <tr>\n      <th>7041</th>\n      <td>8361-LTMKD</td>\n      <td>Male</td>\n      <td>1</td>\n      <td>Yes</td>\n      <td>No</td>\n      <td>4</td>\n      <td>Yes</td>\n      <td>Yes</td>\n      <td>Fiber optic</td>\n      <td>No</td>\n      <td>...</td>\n      <td>No</td>\n      <td>No</td>\n      <td>No</td>\n      <td>No</td>\n      <td>Month-to-month</td>\n      <td>Yes</td>\n      <td>Mailed check</td>\n      <td>74.4</td>\n      <td>306.6</td>\n      <td>Yes</td>\n    </tr>\n    <tr>\n      <th>7042</th>\n      <td>3186-AJIEK</td>\n      <td>Male</td>\n      <td>0</td>\n      <td>No</td>\n      <td>No</td>\n      <td>66</td>\n      <td>Yes</td>\n      <td>No</td>\n      <td>Fiber optic</td>\n      <td>Yes</td>\n      <td>...</td>\n      <td>Yes</td>\n      <td>Yes</td>\n      <td>Yes</td>\n      <td>Yes</td>\n      <td>Two year</td>\n      <td>Yes</td>\n      <td>Bank transfer (automatic)</td>\n      <td>105.65</td>\n      <td>6844.5</td>\n      <td>No</td>\n    </tr>\n  </tbody>\n</table>\n<p>7043 rows × 21 columns</p>\n</div>"
     },
     "metadata": {},
     "output_type": "execute_result",
     "execution_count": 45
    }
   ],
   "source": [
    "df = pd.read_csv('../data/WA_Fn-UseC_-Telco-Customer-Churn.csv')\n",
    "\n",
    "DataFramePreprocessor.trim_wsp_util(df, inplace=True)\n",
    "no_int_colms = ['OnlineSecurity', 'OnlineBackup', 'DeviceProtection',\n",
    "                'TechSupport', 'StreamingTV', 'StreamingMovies']\n",
    "\n",
    "for c in no_int_colms:\n",
    "\tdf[c].replace(to_replace='No internet service', value='No', inplace=True)\n",
    "df['MultipleLines'].replace(to_replace='No phone service', value='No', inplace=True)\n",
    "\n",
    "yes_no_colms = ['Partner', 'Dependents', 'PhoneService', 'MultipleLines'] \\\n",
    "\t               + no_int_colms + ['PaperlessBilling', 'Churn']\n",
    "\n",
    "mult_val_colms = ['InternetService', 'Contract', 'PaymentMethod']\n",
    "\n",
    "num_colms = ['TotalCharges']\n",
    "\n",
    "df"
   ],
   "metadata": {
    "collapsed": false,
    "pycharm": {
     "name": "#%%\n",
     "is_executing": false
    }
   }
  },
  {
   "cell_type": "code",
   "execution_count": 66,
   "outputs": [
    {
     "data": {
      "text/plain": "   gender SeniorCitizen  Partner  Dependents tenure  PhoneService  \\\n0       0             0        1           0      1             0   \n1       1             0        0           0     34             1   \n2       1             0        0           0      2             1   \n3       1             0        0           0     45             0   \n4       0             0        0           0      2             1   \n\n   MultipleLines  OnlineSecurity  OnlineBackup  DeviceProtection  ...  \\\n0              0               0             1                 0  ...   \n1              0               1             0                 1  ...   \n2              0               1             1                 0  ...   \n3              0               1             0                 1  ...   \n4              0               0             0                 0  ...   \n\n   InternetService_DSL  InternetService_Fiber optic  InternetService_No  \\\n0                    1                            0                   0   \n1                    1                            0                   0   \n2                    1                            0                   0   \n3                    1                            0                   0   \n4                    0                            1                   0   \n\n   Contract_Month-to-month Contract_One year  Contract_Two year  \\\n0                        1                 0                  0   \n1                        0                 1                  0   \n2                        1                 0                  0   \n3                        0                 1                  0   \n4                        1                 0                  0   \n\n   PaymentMethod_Bank transfer (automatic)  \\\n0                                        0   \n1                                        0   \n2                                        0   \n3                                        1   \n4                                        0   \n\n   PaymentMethod_Credit card (automatic)  PaymentMethod_Electronic check  \\\n0                                      0                               1   \n1                                      0                               0   \n2                                      0                               0   \n3                                      0                               0   \n4                                      0                               1   \n\n   PaymentMethod_Mailed check  \n0                           0  \n1                           1  \n2                           1  \n3                           0  \n4                           0  \n\n[5 rows x 27 columns]",
      "text/html": "<div>\n<style scoped>\n    .dataframe tbody tr th:only-of-type {\n        vertical-align: middle;\n    }\n\n    .dataframe tbody tr th {\n        vertical-align: top;\n    }\n\n    .dataframe thead th {\n        text-align: right;\n    }\n</style>\n<table border=\"1\" class=\"dataframe\">\n  <thead>\n    <tr style=\"text-align: right;\">\n      <th></th>\n      <th>gender</th>\n      <th>SeniorCitizen</th>\n      <th>Partner</th>\n      <th>Dependents</th>\n      <th>tenure</th>\n      <th>PhoneService</th>\n      <th>MultipleLines</th>\n      <th>OnlineSecurity</th>\n      <th>OnlineBackup</th>\n      <th>DeviceProtection</th>\n      <th>...</th>\n      <th>InternetService_DSL</th>\n      <th>InternetService_Fiber optic</th>\n      <th>InternetService_No</th>\n      <th>Contract_Month-to-month</th>\n      <th>Contract_One year</th>\n      <th>Contract_Two year</th>\n      <th>PaymentMethod_Bank transfer (automatic)</th>\n      <th>PaymentMethod_Credit card (automatic)</th>\n      <th>PaymentMethod_Electronic check</th>\n      <th>PaymentMethod_Mailed check</th>\n    </tr>\n  </thead>\n  <tbody>\n    <tr>\n      <th>0</th>\n      <td>0</td>\n      <td>0</td>\n      <td>1</td>\n      <td>0</td>\n      <td>1</td>\n      <td>0</td>\n      <td>0</td>\n      <td>0</td>\n      <td>1</td>\n      <td>0</td>\n      <td>...</td>\n      <td>1</td>\n      <td>0</td>\n      <td>0</td>\n      <td>1</td>\n      <td>0</td>\n      <td>0</td>\n      <td>0</td>\n      <td>0</td>\n      <td>1</td>\n      <td>0</td>\n    </tr>\n    <tr>\n      <th>1</th>\n      <td>1</td>\n      <td>0</td>\n      <td>0</td>\n      <td>0</td>\n      <td>34</td>\n      <td>1</td>\n      <td>0</td>\n      <td>1</td>\n      <td>0</td>\n      <td>1</td>\n      <td>...</td>\n      <td>1</td>\n      <td>0</td>\n      <td>0</td>\n      <td>0</td>\n      <td>1</td>\n      <td>0</td>\n      <td>0</td>\n      <td>0</td>\n      <td>0</td>\n      <td>1</td>\n    </tr>\n    <tr>\n      <th>2</th>\n      <td>1</td>\n      <td>0</td>\n      <td>0</td>\n      <td>0</td>\n      <td>2</td>\n      <td>1</td>\n      <td>0</td>\n      <td>1</td>\n      <td>1</td>\n      <td>0</td>\n      <td>...</td>\n      <td>1</td>\n      <td>0</td>\n      <td>0</td>\n      <td>1</td>\n      <td>0</td>\n      <td>0</td>\n      <td>0</td>\n      <td>0</td>\n      <td>0</td>\n      <td>1</td>\n    </tr>\n    <tr>\n      <th>3</th>\n      <td>1</td>\n      <td>0</td>\n      <td>0</td>\n      <td>0</td>\n      <td>45</td>\n      <td>0</td>\n      <td>0</td>\n      <td>1</td>\n      <td>0</td>\n      <td>1</td>\n      <td>...</td>\n      <td>1</td>\n      <td>0</td>\n      <td>0</td>\n      <td>0</td>\n      <td>1</td>\n      <td>0</td>\n      <td>1</td>\n      <td>0</td>\n      <td>0</td>\n      <td>0</td>\n    </tr>\n    <tr>\n      <th>4</th>\n      <td>0</td>\n      <td>0</td>\n      <td>0</td>\n      <td>0</td>\n      <td>2</td>\n      <td>1</td>\n      <td>0</td>\n      <td>0</td>\n      <td>0</td>\n      <td>0</td>\n      <td>...</td>\n      <td>0</td>\n      <td>1</td>\n      <td>0</td>\n      <td>1</td>\n      <td>0</td>\n      <td>0</td>\n      <td>0</td>\n      <td>0</td>\n      <td>1</td>\n      <td>0</td>\n    </tr>\n  </tbody>\n</table>\n<p>5 rows × 27 columns</p>\n</div>"
     },
     "metadata": {},
     "output_type": "execute_result",
     "execution_count": 66
    }
   ],
   "source": [
    "pr = DataFramePreprocessor(df_train=df)\n",
    "\n",
    "df_2=df.copy()\n",
    "df_2.drop(columns=['customerID'], inplace=True)\n",
    "df_2=pr.preprocess(df_2, \n",
    "                drop_colms=['customerID'], \n",
    "                mul_cat_colms=mult_val_colms, \n",
    "                num_colms=num_colms, \n",
    "                target_colm='Churn', \n",
    "                bin_cat_colms=yes_no_colms + ['gender'], \n",
    "                bin_replace_map=[{'Yes':1, 'No':0}]*len(yes_no_colms) + [{'Male':1, 'Female':0}])\n",
    "df_2.head()\n",
    "# df_2.drop(columns=[], inplace=True, errors='ignore')"
   ],
   "metadata": {
    "collapsed": false,
    "pycharm": {
     "name": "#%%\n",
     "is_executing": false
    }
   }
  },
  {
   "cell_type": "code",
   "execution_count": 93,
   "outputs": [],
   "source": [
    "df = pd.read_csv('../data/adult/adult.data', header=None)\n",
    "df_test = pd.read_csv('../data/adult/adult.test', skiprows=1, header=None)\n",
    "column_labels = ['age', 'workclass', 'fnlwgt', 'education', 'education-num', 'marital-status', 'occupation',\n",
    "                 'relationship', 'race', 'sex', 'capital - gain', 'capital - loss', 'hours - per - week',\n",
    "                 'native - country', 'salary']\n",
    "\n",
    "numeric_colms = ['age', 'fnlwgt', 'education-num', 'capital - gain', 'capital - loss', 'hours - per - week']\n",
    "yes_no_colms = ['sex', 'salary']\n",
    "yes_no_map=[{'Male':1, 'Female':0}, {'>50K': 1, '<=50K': 0}]\n",
    "cat_colms = [cat for cat in column_labels[:-1] if cat not in numeric_colms]\n",
    "cat_colms = [cat for cat in cat_colms if cat not in yes_no_colms]\n",
    "df.columns=column_labels\n",
    "df_test.columns=column_labels\n",
    "# df.columns=df_test.columns=column_labels\n",
    "df_test['salary'].replace({'>50K.': '>50K', '<=50K.': '<=50K'}, inplace=True)\n",
    "# df"
   ],
   "metadata": {
    "collapsed": false,
    "pycharm": {
     "name": "#%%\n",
     "is_executing": false
    }
   }
  },
  {
   "cell_type": "code",
   "execution_count": 107,
   "outputs": [
    {
     "data": {
      "text/plain": "   age  capital - gain  capital - loss  education-num  education_10th  \\\n0   25               0               0              7               0   \n1   38               0               0              9               0   \n2   28               0               0             12               0   \n3   44            7688               0             10               0   \n4   18               0               0             10               0   \n\n   education_11th  education_12th  education_1st-4th  education_5th-6th  \\\n0               1               0                  0                  0   \n1               0               0                  0                  0   \n2               0               0                  0                  0   \n3               0               0                  0                  0   \n4               0               0                  0                  0   \n\n   education_7th-8th  ...  sex  workclass_?  workclass_Federal-gov  \\\n0                  0  ...    1            0                      0   \n1                  0  ...    1            0                      0   \n2                  0  ...    1            0                      0   \n3                  0  ...    1            0                      0   \n4                  0  ...    0            1                      0   \n\n   workclass_Local-gov  workclass_Never-worked  workclass_Private  \\\n0                    0                       0                  1   \n1                    0                       0                  1   \n2                    1                       0                  0   \n3                    0                       0                  1   \n4                    0                       0                  0   \n\n   workclass_Self-emp-inc  workclass_Self-emp-not-inc  workclass_State-gov  \\\n0                       0                           0                    0   \n1                       0                           0                    0   \n2                       0                           0                    0   \n3                       0                           0                    0   \n4                       0                           0                    0   \n\n   workclass_Without-pay  \n0                      0  \n1                      0  \n2                      0  \n3                      0  \n4                      0  \n\n[5 rows x 108 columns]",
      "text/html": "<div>\n<style scoped>\n    .dataframe tbody tr th:only-of-type {\n        vertical-align: middle;\n    }\n\n    .dataframe tbody tr th {\n        vertical-align: top;\n    }\n\n    .dataframe thead th {\n        text-align: right;\n    }\n</style>\n<table border=\"1\" class=\"dataframe\">\n  <thead>\n    <tr style=\"text-align: right;\">\n      <th></th>\n      <th>age</th>\n      <th>capital - gain</th>\n      <th>capital - loss</th>\n      <th>education-num</th>\n      <th>education_10th</th>\n      <th>education_11th</th>\n      <th>education_12th</th>\n      <th>education_1st-4th</th>\n      <th>education_5th-6th</th>\n      <th>education_7th-8th</th>\n      <th>...</th>\n      <th>sex</th>\n      <th>workclass_?</th>\n      <th>workclass_Federal-gov</th>\n      <th>workclass_Local-gov</th>\n      <th>workclass_Never-worked</th>\n      <th>workclass_Private</th>\n      <th>workclass_Self-emp-inc</th>\n      <th>workclass_Self-emp-not-inc</th>\n      <th>workclass_State-gov</th>\n      <th>workclass_Without-pay</th>\n    </tr>\n  </thead>\n  <tbody>\n    <tr>\n      <th>0</th>\n      <td>25</td>\n      <td>0</td>\n      <td>0</td>\n      <td>7</td>\n      <td>0</td>\n      <td>1</td>\n      <td>0</td>\n      <td>0</td>\n      <td>0</td>\n      <td>0</td>\n      <td>...</td>\n      <td>1</td>\n      <td>0</td>\n      <td>0</td>\n      <td>0</td>\n      <td>0</td>\n      <td>1</td>\n      <td>0</td>\n      <td>0</td>\n      <td>0</td>\n      <td>0</td>\n    </tr>\n    <tr>\n      <th>1</th>\n      <td>38</td>\n      <td>0</td>\n      <td>0</td>\n      <td>9</td>\n      <td>0</td>\n      <td>0</td>\n      <td>0</td>\n      <td>0</td>\n      <td>0</td>\n      <td>0</td>\n      <td>...</td>\n      <td>1</td>\n      <td>0</td>\n      <td>0</td>\n      <td>0</td>\n      <td>0</td>\n      <td>1</td>\n      <td>0</td>\n      <td>0</td>\n      <td>0</td>\n      <td>0</td>\n    </tr>\n    <tr>\n      <th>2</th>\n      <td>28</td>\n      <td>0</td>\n      <td>0</td>\n      <td>12</td>\n      <td>0</td>\n      <td>0</td>\n      <td>0</td>\n      <td>0</td>\n      <td>0</td>\n      <td>0</td>\n      <td>...</td>\n      <td>1</td>\n      <td>0</td>\n      <td>0</td>\n      <td>1</td>\n      <td>0</td>\n      <td>0</td>\n      <td>0</td>\n      <td>0</td>\n      <td>0</td>\n      <td>0</td>\n    </tr>\n    <tr>\n      <th>3</th>\n      <td>44</td>\n      <td>7688</td>\n      <td>0</td>\n      <td>10</td>\n      <td>0</td>\n      <td>0</td>\n      <td>0</td>\n      <td>0</td>\n      <td>0</td>\n      <td>0</td>\n      <td>...</td>\n      <td>1</td>\n      <td>0</td>\n      <td>0</td>\n      <td>0</td>\n      <td>0</td>\n      <td>1</td>\n      <td>0</td>\n      <td>0</td>\n      <td>0</td>\n      <td>0</td>\n    </tr>\n    <tr>\n      <th>4</th>\n      <td>18</td>\n      <td>0</td>\n      <td>0</td>\n      <td>10</td>\n      <td>0</td>\n      <td>0</td>\n      <td>0</td>\n      <td>0</td>\n      <td>0</td>\n      <td>0</td>\n      <td>...</td>\n      <td>0</td>\n      <td>1</td>\n      <td>0</td>\n      <td>0</td>\n      <td>0</td>\n      <td>0</td>\n      <td>0</td>\n      <td>0</td>\n      <td>0</td>\n      <td>0</td>\n    </tr>\n  </tbody>\n</table>\n<p>5 rows × 108 columns</p>\n</div>"
     },
     "metadata": {},
     "output_type": "execute_result",
     "execution_count": 107
    }
   ],
   "source": [
    "pr = DataFramePreprocessor(df_train=df)\n",
    "\n",
    "df_=pr.preprocess_train(df.copy(), \n",
    "                        bin_cat_colms=yes_no_colms,\n",
    "                        bin_replace_map=yes_no_map,\n",
    "                        num_colms=numeric_colms,\n",
    "                        mul_cat_colms=cat_colms,\n",
    "                        num_na_symbol='?')\n",
    "# df_test_=pr.preprocess_test(df_test)\n",
    "df_test_=pr.preprocess_test(df_test.copy(), \n",
    "                        bin_cat_colms=yes_no_colms,\n",
    "                        bin_replace_map=yes_no_map,\n",
    "                        num_colms=numeric_colms,\n",
    "                        mul_cat_colms=cat_colms,\n",
    "                        num_na_symbol='?')\n",
    "# df['sex'] = df['sex'].replace({'Male': 1, 'Female': 0})\n",
    "# df_.head(5)\n",
    "df_test_.head(5)"
   ],
   "metadata": {
    "collapsed": false,
    "pycharm": {
     "name": "#%%\n",
     "is_executing": false
    }
   }
  },
  {
   "cell_type": "code",
   "execution_count": 109,
   "outputs": [
    {
     "data": {
      "text/plain": "         V1        V2        V3        V4        V5        V6        V7  \\\n0 -1.359807 -0.072781  2.536347  1.378155 -0.338321  0.462388  0.239599   \n1  1.191857  0.266151  0.166480  0.448154  0.060018 -0.082361 -0.078803   \n2 -1.358354 -1.340163  1.773209  0.379780 -0.503198  1.800499  0.791461   \n3 -0.966272 -0.185226  1.792993 -0.863291 -0.010309  1.247203  0.237609   \n4 -1.158233  0.877737  1.548718  0.403034 -0.407193  0.095921  0.592941   \n\n         V8        V9       V10  ...       V21       V22       V23       V24  \\\n0  0.098698  0.363787  0.090794  ... -0.018307  0.277838 -0.110474  0.066928   \n1  0.085102 -0.255425 -0.166974  ... -0.225775 -0.638672  0.101288 -0.339846   \n2  0.247676 -1.514654  0.207643  ...  0.247998  0.771679  0.909412 -0.689281   \n3  0.377436 -1.387024 -0.054952  ... -0.108300  0.005274 -0.190321 -1.175575   \n4 -0.270533  0.817739  0.753074  ... -0.009431  0.798278 -0.137458  0.141267   \n\n        V25       V26       V27       V28  Amount  Class  \n0  0.128539 -0.189115  0.133558 -0.021053  149.62      0  \n1  0.167170  0.125895 -0.008983  0.014724    2.69      0  \n2 -0.327642 -0.139097 -0.055353 -0.059752  378.66      0  \n3  0.647376 -0.221929  0.062723  0.061458  123.50      0  \n4 -0.206010  0.502292  0.219422  0.215153   69.99      0  \n\n[5 rows x 30 columns]",
      "text/html": "<div>\n<style scoped>\n    .dataframe tbody tr th:only-of-type {\n        vertical-align: middle;\n    }\n\n    .dataframe tbody tr th {\n        vertical-align: top;\n    }\n\n    .dataframe thead th {\n        text-align: right;\n    }\n</style>\n<table border=\"1\" class=\"dataframe\">\n  <thead>\n    <tr style=\"text-align: right;\">\n      <th></th>\n      <th>V1</th>\n      <th>V2</th>\n      <th>V3</th>\n      <th>V4</th>\n      <th>V5</th>\n      <th>V6</th>\n      <th>V7</th>\n      <th>V8</th>\n      <th>V9</th>\n      <th>V10</th>\n      <th>...</th>\n      <th>V21</th>\n      <th>V22</th>\n      <th>V23</th>\n      <th>V24</th>\n      <th>V25</th>\n      <th>V26</th>\n      <th>V27</th>\n      <th>V28</th>\n      <th>Amount</th>\n      <th>Class</th>\n    </tr>\n  </thead>\n  <tbody>\n    <tr>\n      <th>0</th>\n      <td>-1.359807</td>\n      <td>-0.072781</td>\n      <td>2.536347</td>\n      <td>1.378155</td>\n      <td>-0.338321</td>\n      <td>0.462388</td>\n      <td>0.239599</td>\n      <td>0.098698</td>\n      <td>0.363787</td>\n      <td>0.090794</td>\n      <td>...</td>\n      <td>-0.018307</td>\n      <td>0.277838</td>\n      <td>-0.110474</td>\n      <td>0.066928</td>\n      <td>0.128539</td>\n      <td>-0.189115</td>\n      <td>0.133558</td>\n      <td>-0.021053</td>\n      <td>149.62</td>\n      <td>0</td>\n    </tr>\n    <tr>\n      <th>1</th>\n      <td>1.191857</td>\n      <td>0.266151</td>\n      <td>0.166480</td>\n      <td>0.448154</td>\n      <td>0.060018</td>\n      <td>-0.082361</td>\n      <td>-0.078803</td>\n      <td>0.085102</td>\n      <td>-0.255425</td>\n      <td>-0.166974</td>\n      <td>...</td>\n      <td>-0.225775</td>\n      <td>-0.638672</td>\n      <td>0.101288</td>\n      <td>-0.339846</td>\n      <td>0.167170</td>\n      <td>0.125895</td>\n      <td>-0.008983</td>\n      <td>0.014724</td>\n      <td>2.69</td>\n      <td>0</td>\n    </tr>\n    <tr>\n      <th>2</th>\n      <td>-1.358354</td>\n      <td>-1.340163</td>\n      <td>1.773209</td>\n      <td>0.379780</td>\n      <td>-0.503198</td>\n      <td>1.800499</td>\n      <td>0.791461</td>\n      <td>0.247676</td>\n      <td>-1.514654</td>\n      <td>0.207643</td>\n      <td>...</td>\n      <td>0.247998</td>\n      <td>0.771679</td>\n      <td>0.909412</td>\n      <td>-0.689281</td>\n      <td>-0.327642</td>\n      <td>-0.139097</td>\n      <td>-0.055353</td>\n      <td>-0.059752</td>\n      <td>378.66</td>\n      <td>0</td>\n    </tr>\n    <tr>\n      <th>3</th>\n      <td>-0.966272</td>\n      <td>-0.185226</td>\n      <td>1.792993</td>\n      <td>-0.863291</td>\n      <td>-0.010309</td>\n      <td>1.247203</td>\n      <td>0.237609</td>\n      <td>0.377436</td>\n      <td>-1.387024</td>\n      <td>-0.054952</td>\n      <td>...</td>\n      <td>-0.108300</td>\n      <td>0.005274</td>\n      <td>-0.190321</td>\n      <td>-1.175575</td>\n      <td>0.647376</td>\n      <td>-0.221929</td>\n      <td>0.062723</td>\n      <td>0.061458</td>\n      <td>123.50</td>\n      <td>0</td>\n    </tr>\n    <tr>\n      <th>4</th>\n      <td>-1.158233</td>\n      <td>0.877737</td>\n      <td>1.548718</td>\n      <td>0.403034</td>\n      <td>-0.407193</td>\n      <td>0.095921</td>\n      <td>0.592941</td>\n      <td>-0.270533</td>\n      <td>0.817739</td>\n      <td>0.753074</td>\n      <td>...</td>\n      <td>-0.009431</td>\n      <td>0.798278</td>\n      <td>-0.137458</td>\n      <td>0.141267</td>\n      <td>-0.206010</td>\n      <td>0.502292</td>\n      <td>0.219422</td>\n      <td>0.215153</td>\n      <td>69.99</td>\n      <td>0</td>\n    </tr>\n  </tbody>\n</table>\n<p>5 rows × 30 columns</p>\n</div>"
     },
     "metadata": {},
     "output_type": "execute_result",
     "execution_count": 109
    }
   ],
   "source": [
    "df = pd.read_csv('../data/creditcard.csv')\n",
    "\n",
    "pr = DataFramePreprocessor(df_train=df)\n",
    "\n",
    "pr.preprocess(df,num_colms=df.columns[1:], drop_colms=['Time'])\n",
    "\n",
    "df.head(5)"
   ],
   "metadata": {
    "collapsed": false,
    "pycharm": {
     "name": "#%%\n",
     "is_executing": false
    }
   }
  }
 ],
 "metadata": {
  "kernelspec": {
   "display_name": "Python 3",
   "language": "python",
   "name": "python3"
  },
  "language_info": {
   "codemirror_mode": {
    "name": "ipython",
    "version": 2
   },
   "file_extension": ".py",
   "mimetype": "text/x-python",
   "name": "python",
   "nbconvert_exporter": "python",
   "pygments_lexer": "ipython2",
   "version": "2.7.6"
  },
  "pycharm": {
   "stem_cell": {
    "cell_type": "raw",
    "source": [],
    "metadata": {
     "collapsed": false
    }
   }
  }
 },
 "nbformat": 4,
 "nbformat_minor": 0
}