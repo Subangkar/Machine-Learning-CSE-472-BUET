{
 "cells": [
  {
   "cell_type": "code",
   "execution_count": 3,
   "metadata": {
    "collapsed": true,
    "pycharm": {
     "is_executing": false
    }
   },
   "outputs": [],
   "source": [
    "%load_ext autoreload\n",
    "%autoreload 2\n",
    "\n",
    "import numpy as np\n",
    "import pandas as pd\n",
    "from matplotlib import pyplot as plt\n",
    "\n",
    "from models.adaboost import AdaBoost\n",
    "\n",
    "\n"
   ]
  },
  {
   "cell_type": "code",
   "execution_count": 58,
   "outputs": [],
   "source": [
    "from utils import label_encode\n",
    "df=pd.read_csv('../data/salaries.csv')\n",
    "# df.head(2)\n",
    "df=label_encode(df)\n",
    "# input\n",
    "df.head(2)\n",
    "X=df.drop(columns=['salary_more_then_100k']).to_numpy()\n",
    "y=df['salary_more_then_100k'].to_numpy()\n",
    "# label_encode(df)"
   ],
   "metadata": {
    "collapsed": false,
    "pycharm": {
     "name": "#%%\n",
     "is_executing": false
    }
   }
  },
  {
   "cell_type": "code",
   "execution_count": 69,
   "outputs": [
    {
     "data": {
      "text/plain": "(712, 4)"
     },
     "metadata": {},
     "output_type": "execute_result",
     "execution_count": 69
    }
   ],
   "source": [
    "from sklearn.preprocessing import LabelEncoder\n",
    "\n",
    "df=pd.read_csv('../data/titanic.csv')\n",
    "df.columns=[c.strip() for c in df.columns]\n",
    "df.drop(['PassengerId','Name','SibSp','Parch','Ticket','Cabin','Embarked'],axis='columns',inplace=True)\n",
    "df.Sex = LabelEncoder().fit_transform(df.Sex)\n",
    "df.Age = pd.to_numeric(df.Age, errors='ignore')\n",
    "df.Age.fillna(df.Age.mean(), inplace=True)\n",
    "# df[df.isnull().any(axis=1)]\n",
    "df.Age.mean()\n",
    "inputs = df.drop('Survived',axis='columns')\n",
    "target = df.Survived\n",
    "\n",
    "from sklearn.model_selection import train_test_split\n",
    "X_train, X_test, y_train, y_test = train_test_split(inputs,target,test_size=0.2)\n",
    "X=X_train.to_numpy()\n",
    "y=y_train.to_numpy()\n",
    "\n",
    "X.shape"
   ],
   "metadata": {
    "collapsed": false,
    "pycharm": {
     "name": "#%%\n",
     "is_executing": false
    }
   }
  },
  {
   "cell_type": "code",
   "execution_count": 70,
   "outputs": [
    {
     "data": {
      "text/plain": "0.8491620111731844"
     },
     "metadata": {},
     "output_type": "execute_result",
     "execution_count": 70
    }
   ],
   "source": [
    "from sklearn.tree import DecisionTreeClassifier\n",
    "\n",
    "dtc=DecisionTreeClassifier()\n",
    "dtc.fit(X,y)\n",
    "dtc.score(X_test,y_test)"
   ],
   "metadata": {
    "collapsed": false,
    "pycharm": {
     "name": "#%%\n",
     "is_executing": false
    }
   }
  },
  {
   "cell_type": "code",
   "execution_count": 73,
   "outputs": [
    {
     "name": "stdout",
     "text": [
      "fitting 59 models\n"
     ],
     "output_type": "stream"
    },
    {
     "data": {
      "text/plain": "(0.8268156424581006, 1.253922635319776)"
     },
     "metadata": {},
     "output_type": "execute_result",
     "execution_count": 73
    }
   ],
   "source": [
    "y_=y\n",
    "y_[y_==0]=-1\n",
    "y_test_=y_test\n",
    "y_test_[y_test_==0]=-1\n",
    "model=AdaBoost(n_estimators=59,base_estimator=DecisionTreeClassifier(max_depth=1))\n",
    "model.fit(X,y_)\n",
    "model.score(X_test,y_test_)\n",
    "# model.predict(X)[0]==y_"
   ],
   "metadata": {
    "collapsed": false,
    "pycharm": {
     "name": "#%%\n",
     "is_executing": false
    }
   }
  },
  {
   "cell_type": "code",
   "execution_count": 74,
   "outputs": [
    {
     "data": {
      "text/plain": "0.8156424581005587"
     },
     "metadata": {},
     "output_type": "execute_result",
     "execution_count": 74
    }
   ],
   "source": [
    "from sklearn.ensemble import AdaBoostClassifier\n",
    "y_=y\n",
    "y_[y_==0]=-1\n",
    "y_test_=y_test\n",
    "y_test_[y_test_==0]=-1\n",
    "model_=AdaBoostClassifier(n_estimators=59,base_estimator=DecisionTreeClassifier(max_depth=1))\n",
    "model_.fit(X,y_)\n",
    "model_.score(X_test,y_test_)\n",
    "# model_.predict(X)==y_"
   ],
   "metadata": {
    "collapsed": false,
    "pycharm": {
     "name": "#%%\n",
     "is_executing": false
    }
   }
  }
 ],
 "metadata": {
  "kernelspec": {
   "name": "python3",
   "language": "python",
   "display_name": "Python 3"
  },
  "language_info": {
   "codemirror_mode": {
    "name": "ipython",
    "version": 2
   },
   "file_extension": ".py",
   "mimetype": "text/x-python",
   "name": "python",
   "nbconvert_exporter": "python",
   "pygments_lexer": "ipython2",
   "version": "2.7.6"
  },
  "pycharm": {
   "stem_cell": {
    "cell_type": "raw",
    "source": [],
    "metadata": {
     "collapsed": false
    }
   }
  }
 },
 "nbformat": 4,
 "nbformat_minor": 0
}